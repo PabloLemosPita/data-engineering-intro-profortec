{
 "cells": [
  {
   "cell_type": "markdown",
   "metadata": {},
   "source": [
    "Extração: Dependências Para WebScrapping"
   ]
  },
  {
   "cell_type": "code",
   "execution_count": 1,
   "metadata": {},
   "outputs": [],
   "source": [
    "from selenium import webdriver\n",
    "from webdriver_manager.chrome import ChromeDriverManager\n",
    "from selenium.webdriver.chrome.service import Service\n",
    "from selenium.webdriver.chrome.options import Options\n",
    "\n",
    "from selenium.webdriver.common.by import By\n",
    "from selenium.webdriver.support.ui import WebDriverWait\n",
    "from selenium.webdriver.support import expected_conditions as EC\n",
    "import time\n"
   ]
  },
  {
   "cell_type": "markdown",
   "metadata": {},
   "source": [
    "Extração: Configurando Driver de Acesso ao Navegador"
   ]
  },
  {
   "cell_type": "code",
   "execution_count": 2,
   "metadata": {},
   "outputs": [],
   "source": [
    "#chrome_options = Options()\n",
    "#chrome_options.add_argument(\"--headless\")\n",
    "#chrome_options.headless = False\n",
    "service = Service(ChromeDriverManager().install())"
   ]
  },
  {
   "cell_type": "markdown",
   "metadata": {},
   "source": [
    "Extração: Definindo URLS e Botões"
   ]
  },
  {
   "cell_type": "code",
   "execution_count": 3,
   "metadata": {},
   "outputs": [],
   "source": [
    "url_database_sinasc = \"https://dados.gov.br/dados/conjuntos-dados/sistema-de-informacao-sobre-nascidos-vivos-sinasc-1996-a-20201\"\n",
    "resource_button_xpath = \"/html/body/div/section/div/div[3]/div[2]/div[3]/div[2]/header/button\"\n",
    "download_resource_xpaths = [\n",
    "                            \"/html/body/div/section/div/div[3]/div[2]/div[3]/div[2]/div/div[6]/div[2]/div[2]/div/button[1]\",\n",
    "                            \"/html/body/div/section/div/div[3]/div[2]/div[3]/div[2]/div/div[7]/div[2]/div[2]/div/button[1]\",\n",
    "                            \"/html/body/div/section/div/div[3]/div[2]/div[3]/div[2]/div/div[8]/div[2]/div[2]/div/button[1]\",\n",
    "                            \"/html/body/div/section/div/div[3]/div[2]/div[3]/div[2]/div/div[9]/div[2]/div[2]/div/button[1]\",\n",
    "                            \"/html/body/div/section/div/div[3]/div[2]/div[3]/div[2]/div/div[10]/div[2]/div[2]/div/button[1]\"\n",
    "                            ]\n",
    "years = ['2020', '2019', '2018', '2017', '2016']"
   ]
  },
  {
   "cell_type": "markdown",
   "metadata": {},
   "source": [
    "Extração: Extraindo Bases SINASC"
   ]
  },
  {
   "cell_type": "code",
   "execution_count": null,
   "metadata": {},
   "outputs": [],
   "source": [
    "browser_driver = webdriver.Chrome(service=service)\n",
    "\n",
    "browser_driver.get(url_database_sinasc) #Acessa o Site\n",
    "print(\"Acessando Recursos...\")\n",
    "try: \n",
    "\n",
    "    resources_button = WebDriverWait(browser_driver, 5).until(EC.presence_of_element_located((By.XPATH, resource_button_xpath))) #Aguarda a Presença do Elemento\n",
    "    resources_button.click() #Clica em 'Recursos' para Acessar as Bases\n",
    "    print(\"Recurso Acessado!\")\n",
    "\n",
    "except Exception as error:\n",
    "    print(f\"Erro: {error}\") \n",
    "\n",
    "for xpath in download_resource_xpaths:\n",
    "    try:\n",
    "        download_resource_button = WebDriverWait(browser_driver, 5).until(EC.presence_of_element_located((By.XPATH, xpath)))\n",
    "        download_resource_button.click()\n",
    "        print(f\"Download de SINASC {years[download_resource_xpaths.index(xpath)]} Iniciado!\")\n",
    "    except Exception as error:\n",
    "        print(f\"Erro: {error}\")"
   ]
  },
  {
   "cell_type": "markdown",
   "metadata": {},
   "source": [
    "Extração: Movendo Arquivos Para Pasta do Projeto"
   ]
  },
  {
   "cell_type": "code",
   "execution_count": 10,
   "metadata": {},
   "outputs": [],
   "source": [
    "import os"
   ]
  },
  {
   "cell_type": "code",
   "execution_count": null,
   "metadata": {},
   "outputs": [],
   "source": [
    "origin_folder = \"/home/usuario/Downloads/\"\n",
    "destiny_folder = \"/home/usuario/Área de trabalho/PythonWorkSpace/final-project-module-6-profortec/\"\n",
    "files_to_move = [\"SINASC_2016.csv\", \"SINASC_2017.csv\", \"SINASC_2018.csv\", \"SINASC_2019.csv\", \"SINASC_2020.csv\"]\n",
    "\n",
    "for file in files_to_move:\n",
    "    try:\n",
    "        os.rename(origin_folder+file, destiny_folder+file)\n",
    "        print(f\"{file} - Movido com Sucesso\")\n",
    "    except Exception as error:\n",
    "        print(f\"Erro ao mover {file}, Erro: {error}\")"
   ]
  },
  {
   "cell_type": "markdown",
   "metadata": {},
   "source": [
    "Transformação: Dependências Spark"
   ]
  },
  {
   "cell_type": "code",
   "execution_count": null,
   "metadata": {},
   "outputs": [],
   "source": [
    "import os\n",
    "os.environ[\"SPARK_HOME\"]=\"/home/usuario/Área de trabalho/PythonWorkSpace/spark-3.5.4-bin-hadoop3\"\n",
    "\n",
    "import findspark\n",
    "findspark.init()\n",
    "import pyspark\n",
    "\n",
    "from pyspark.sql import SparkSession\n",
    "\n",
    "spark = SparkSession.builder \\\n",
    "    .appName(\"transformation_\") \\\n",
    "    .config(\"spark.some.config.option\", \"config_value\") \\\n",
    "    .getOrCreate()\n",
    "\n",
    "print(pyspark.__version__)"
   ]
  },
  {
   "cell_type": "code",
   "execution_count": null,
   "metadata": {},
   "outputs": [],
   "source": []
  }
 ],
 "metadata": {
  "kernelspec": {
   "display_name": "spark-venv",
   "language": "python",
   "name": "python3"
  },
  "language_info": {
   "codemirror_mode": {
    "name": "ipython",
    "version": 3
   },
   "file_extension": ".py",
   "mimetype": "text/x-python",
   "name": "python",
   "nbconvert_exporter": "python",
   "pygments_lexer": "ipython3",
   "version": "3.12.7"
  }
 },
 "nbformat": 4,
 "nbformat_minor": 2
}
